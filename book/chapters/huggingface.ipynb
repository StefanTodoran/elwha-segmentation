{
 "cells": [
  {
   "cell_type": "code",
   "execution_count": 1,
   "metadata": {},
   "outputs": [],
   "source": [
    "from datasets import Dataset, DatasetDict, Image\n",
    "from util import TLDataset, readSetFromFile"
   ]
  },
  {
   "cell_type": "markdown",
   "metadata": {},
   "source": [
    "For the full dataset:"
   ]
  },
  {
   "cell_type": "code",
   "execution_count": 10,
   "metadata": {},
   "outputs": [
    {
     "name": "stdout",
     "output_type": "stream",
     "text": [
      "Found and loaded 4382 images with glob *_corrected.png.\n",
      "Subset of 3944 ground truth segmentation masks marked for Train.\n",
      "Found and loaded 4382 images with glob *_corrected.png.\n",
      "Subset of 438 ground truth segmentation masks marked for Test.\n"
     ]
    }
   ],
   "source": [
    "train_data = TLDataset(\n",
    "    \"../learning/\", \"imagery/\", \"masks/\", \"*_corrected.png\", \n",
    "    subset=\"Train\", fraction=0.1, seed=1,\n",
    ")\n",
    "\n",
    "validation_data = TLDataset(\n",
    "    \"../learning/\", \"imagery/\", \"masks/\", \"*_corrected.png\", \n",
    "    subset=\"Test\", fraction=0.1, seed=1,\n",
    ")\n",
    "\n",
    "image_paths_train = [str(path) for path in train_data.image_names]\n",
    "label_paths_train = [str(path) for path in train_data.mask_names]\n",
    "\n",
    "image_paths_validation = [str(path) for path in validation_data.image_names]\n",
    "label_paths_validation = [str(path) for path in validation_data.mask_names]"
   ]
  },
  {
   "cell_type": "markdown",
   "metadata": {},
   "source": [
    "For the tiny dataset:"
   ]
  },
  {
   "cell_type": "code",
   "execution_count": 3,
   "metadata": {},
   "outputs": [
    {
     "name": "stdout",
     "output_type": "stream",
     "text": [
      "Found and loaded 4382 images with glob *_corrected.png.\n",
      "Subset of 4382 ground truth segmentation masks marked for Train.\n",
      "Tiny dataset train: 158 images\n",
      "Tiny dataset validation: 17 images\n"
     ]
    }
   ],
   "source": [
    "all_data = TLDataset(\n",
    "    \"../learning/\", \"imagery/\", \"masks/\", \"*_corrected.png\", \n",
    "    subset=\"Train\", fraction=0, seed=1, # We want to select every image\n",
    ")\n",
    "\n",
    "indices = readSetFromFile(\"../data/useful_images.txt\")\n",
    "names = [all_data[index][\"name\"].replace(\".png\", \"\") for index in indices]\n",
    "\n",
    "cutoff = int(len(names) / 10) # fraction=0.1\n",
    "train_names = names[cutoff:]\n",
    "val_names = names[:cutoff]\n",
    "\n",
    "image_paths_train = [f\"../learning/imagery/{name}.png\" for name in train_names]\n",
    "label_paths_train = [f\"../learning/masks/{name}_corrected.png\" for name in train_names]\n",
    "\n",
    "image_paths_validation = [f\"../learning/imagery/{name}.png\" for name in val_names]\n",
    "label_paths_validation = [f\"../learning/masks/{name}_corrected.png\" for name in val_names]\n",
    "\n",
    "print(f\"Tiny dataset train: {len(train_names)} images\")\n",
    "print(f\"Tiny dataset validation: {len(val_names)} images\")"
   ]
  },
  {
   "cell_type": "code",
   "execution_count": 4,
   "metadata": {},
   "outputs": [
    {
     "data": {
      "application/vnd.jupyter.widget-view+json": {
       "model_id": "902e4927f6e846a3a19126a9c7bb4b2b",
       "version_major": 2,
       "version_minor": 0
      },
      "text/plain": [
       "Uploading the dataset shards:   0%|          | 0/1 [00:00<?, ?it/s]"
      ]
     },
     "metadata": {},
     "output_type": "display_data"
    },
    {
     "data": {
      "application/vnd.jupyter.widget-view+json": {
       "model_id": "6ac6524f5fcd4704b3e8d254cf1550d7",
       "version_major": 2,
       "version_minor": 0
      },
      "text/plain": [
       "Map:   0%|          | 0/158 [00:00<?, ? examples/s]"
      ]
     },
     "metadata": {},
     "output_type": "display_data"
    },
    {
     "data": {
      "application/vnd.jupyter.widget-view+json": {
       "model_id": "be8e8d7a086b4233a60eefa4aa675f59",
       "version_major": 2,
       "version_minor": 0
      },
      "text/plain": [
       "Creating parquet from Arrow format:   0%|          | 0/2 [00:00<?, ?ba/s]"
      ]
     },
     "metadata": {},
     "output_type": "display_data"
    },
    {
     "data": {
      "application/vnd.jupyter.widget-view+json": {
       "model_id": "65b16fddc87e4a6d9d336e5a969ab09a",
       "version_major": 2,
       "version_minor": 0
      },
      "text/plain": [
       "Uploading the dataset shards:   0%|          | 0/1 [00:00<?, ?it/s]"
      ]
     },
     "metadata": {},
     "output_type": "display_data"
    },
    {
     "data": {
      "application/vnd.jupyter.widget-view+json": {
       "model_id": "db5026c0cd1a4a588f55904c7229b5f0",
       "version_major": 2,
       "version_minor": 0
      },
      "text/plain": [
       "Map:   0%|          | 0/17 [00:00<?, ? examples/s]"
      ]
     },
     "metadata": {},
     "output_type": "display_data"
    },
    {
     "data": {
      "application/vnd.jupyter.widget-view+json": {
       "model_id": "6ccb007bb6114a98a941d0023cf82376",
       "version_major": 2,
       "version_minor": 0
      },
      "text/plain": [
       "Creating parquet from Arrow format:   0%|          | 0/1 [00:00<?, ?ba/s]"
      ]
     },
     "metadata": {},
     "output_type": "display_data"
    },
    {
     "data": {
      "application/vnd.jupyter.widget-view+json": {
       "model_id": "c65534b6ffb249cdb72bfd721c012504",
       "version_major": 2,
       "version_minor": 0
      },
      "text/plain": [
       "README.md:   0%|          | 0.00/434 [00:00<?, ?B/s]"
      ]
     },
     "metadata": {},
     "output_type": "display_data"
    },
    {
     "data": {
      "text/plain": [
       "CommitInfo(commit_url='https://huggingface.co/datasets/stodoran/elwha-segmentation-tiny/commit/e76e2c13856018d24d29f9df15c9dc4d33f0e0d6', commit_message='Upload dataset', commit_description='', oid='e76e2c13856018d24d29f9df15c9dc4d33f0e0d6', pr_url=None, pr_revision=None, pr_num=None)"
      ]
     },
     "execution_count": 4,
     "metadata": {},
     "output_type": "execute_result"
    }
   ],
   "source": [
    "def createDataset(image_paths, label_paths):\n",
    "    dataset = Dataset.from_dict({\"image\": sorted(image_paths), \"label\": sorted(label_paths)})\n",
    "    dataset = dataset.cast_column(\"image\", Image())\n",
    "    dataset = dataset.cast_column(\"label\", Image())\n",
    "\n",
    "    return dataset\n",
    "\n",
    "train_dataset = createDataset(image_paths_train, label_paths_train)\n",
    "validation_dataset = createDataset(image_paths_validation, label_paths_validation)\n",
    "\n",
    "dataset = DatasetDict({\n",
    "    \"train\": train_dataset,\n",
    "    \"validation\": validation_dataset,\n",
    "})\n",
    "\n",
    "# This function assumes you have ran the huggingface-cli login command in a terminal/notebook\n",
    "# dataset.push_to_hub(\"stodoran/elwha-segmentation-large\")\n",
    "dataset.push_to_hub(\"stodoran/elwha-segmentation-tiny\")"
   ]
  },
  {
   "cell_type": "markdown",
   "metadata": {},
   "source": [
    "[stodoran/elwha-segmentation-large](https://huggingface.co/datasets/stodoran/elwha-segmentation-large/tree/main)<br>\n",
    "[stodoran/elwha-segmentation-tiny](https://huggingface.co/datasets/stodoran/elwha-segmentation-tiny/tree/main)"
   ]
  }
 ],
 "metadata": {
  "kernelspec": {
   "display_name": "elwha_env",
   "language": "python",
   "name": "python3"
  },
  "language_info": {
   "codemirror_mode": {
    "name": "ipython",
    "version": 3
   },
   "file_extension": ".py",
   "mimetype": "text/x-python",
   "name": "python",
   "nbconvert_exporter": "python",
   "pygments_lexer": "ipython3",
   "version": "3.10.12"
  }
 },
 "nbformat": 4,
 "nbformat_minor": 2
}
