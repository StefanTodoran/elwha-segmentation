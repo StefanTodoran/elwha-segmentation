{
 "cells": [
  {
   "cell_type": "code",
   "execution_count": 17,
   "metadata": {},
   "outputs": [],
   "source": [
    "from datasets import Dataset, DatasetDict, Image\n",
    "from util import TLDataset, readSetFromFile"
   ]
  },
  {
   "cell_type": "markdown",
   "metadata": {},
   "source": [
    "For the full dataset:"
   ]
  },
  {
   "cell_type": "code",
   "execution_count": 10,
   "metadata": {},
   "outputs": [
    {
     "name": "stdout",
     "output_type": "stream",
     "text": [
      "Found and loaded 4382 images with glob *_corrected.png.\n",
      "Subset of 3944 ground truth segmentation masks marked for Train.\n",
      "Found and loaded 4382 images with glob *_corrected.png.\n",
      "Subset of 438 ground truth segmentation masks marked for Test.\n"
     ]
    }
   ],
   "source": [
    "train_data = TLDataset(\n",
    "    \"../learning/\", \"imagery/\", \"masks/\", \"*_corrected.png\", \n",
    "    subset=\"Train\", fraction=0.1, seed=1,\n",
    ")\n",
    "\n",
    "validation_data = TLDataset(\n",
    "    \"../learning/\", \"imagery/\", \"masks/\", \"*_corrected.png\", \n",
    "    subset=\"Test\", fraction=0.1, seed=1,\n",
    ")\n",
    "\n",
    "image_paths_train = [str(path) for path in train_data.image_names]\n",
    "label_paths_train = [str(path) for path in train_data.mask_names]\n",
    "\n",
    "image_paths_validation = [str(path) for path in validation_data.image_names]\n",
    "label_paths_validation = [str(path) for path in validation_data.mask_names]"
   ]
  },
  {
   "cell_type": "markdown",
   "metadata": {},
   "source": [
    "For the tiny dataset:"
   ]
  },
  {
   "cell_type": "code",
   "execution_count": 18,
   "metadata": {},
   "outputs": [
    {
     "name": "stdout",
     "output_type": "stream",
     "text": [
      "Found and loaded 4382 images with glob *_corrected.png.\n",
      "Subset of 4382 ground truth segmentation masks marked for Train.\n"
     ]
    }
   ],
   "source": [
    "all_data = TLDataset(\n",
    "    \"../learning/\", \"imagery/\", \"masks/\", \"*_corrected.png\", \n",
    "    subset=\"Train\", fraction=0, seed=1, # We want to select every image\n",
    ")\n",
    "\n",
    "indices = readSetFromFile(\"../data/useful_images.txt\")\n",
    "names = [all_data[index][\"name\"].replace(\".png\", \"\") for index in indices]\n",
    "\n",
    "cutoff = int(len(names) / 10) # fraction=0.1\n",
    "train_names = names[cutoff:]\n",
    "val_names = names[:cutoff]\n",
    "\n",
    "image_paths_train = [f\"../learning/imagery/{name}.png\" for name in train_names]\n",
    "label_paths_train = [f\"../learning/masks/{name}_corrected.png\" for name in train_names]\n",
    "\n",
    "image_paths_validation = [f\"../learning/imagery/{name}.png\" for name in val_names]\n",
    "label_paths_validation = [f\"../learning/masks/{name}_corrected.png\" for name in val_names]"
   ]
  },
  {
   "cell_type": "code",
   "execution_count": 19,
   "metadata": {},
   "outputs": [
    {
     "data": {
      "application/vnd.jupyter.widget-view+json": {
       "model_id": "994f566062674816bb62a8cc07dc2ed3",
       "version_major": 2,
       "version_minor": 0
      },
      "text/plain": [
       "Uploading the dataset shards:   0%|          | 0/1 [00:00<?, ?it/s]"
      ]
     },
     "metadata": {},
     "output_type": "display_data"
    },
    {
     "data": {
      "application/vnd.jupyter.widget-view+json": {
       "model_id": "8402aed863bb41e7b153a8829f656559",
       "version_major": 2,
       "version_minor": 0
      },
      "text/plain": [
       "Map:   0%|          | 0/90 [00:00<?, ? examples/s]"
      ]
     },
     "metadata": {},
     "output_type": "display_data"
    },
    {
     "data": {
      "application/vnd.jupyter.widget-view+json": {
       "model_id": "6330b9209f1b42e8aa3e402351b92f42",
       "version_major": 2,
       "version_minor": 0
      },
      "text/plain": [
       "Creating parquet from Arrow format:   0%|          | 0/1 [00:00<?, ?ba/s]"
      ]
     },
     "metadata": {},
     "output_type": "display_data"
    },
    {
     "data": {
      "application/vnd.jupyter.widget-view+json": {
       "model_id": "bc4e9ba2c4d34f369dec5f416864915f",
       "version_major": 2,
       "version_minor": 0
      },
      "text/plain": [
       "Uploading the dataset shards:   0%|          | 0/1 [00:00<?, ?it/s]"
      ]
     },
     "metadata": {},
     "output_type": "display_data"
    },
    {
     "data": {
      "application/vnd.jupyter.widget-view+json": {
       "model_id": "7dcac15acbd94eb0a4a7ff86536236d2",
       "version_major": 2,
       "version_minor": 0
      },
      "text/plain": [
       "Map:   0%|          | 0/10 [00:00<?, ? examples/s]"
      ]
     },
     "metadata": {},
     "output_type": "display_data"
    },
    {
     "data": {
      "application/vnd.jupyter.widget-view+json": {
       "model_id": "ca33e794b078414a837b447d37f7be52",
       "version_major": 2,
       "version_minor": 0
      },
      "text/plain": [
       "Creating parquet from Arrow format:   0%|          | 0/1 [00:00<?, ?ba/s]"
      ]
     },
     "metadata": {},
     "output_type": "display_data"
    },
    {
     "data": {
      "application/vnd.jupyter.widget-view+json": {
       "model_id": "50ee2acaabd740f6952ad850aae040ac",
       "version_major": 2,
       "version_minor": 0
      },
      "text/plain": [
       "README.md:   0%|          | 0.00/430 [00:00<?, ?B/s]"
      ]
     },
     "metadata": {},
     "output_type": "display_data"
    },
    {
     "data": {
      "text/plain": [
       "CommitInfo(commit_url='https://huggingface.co/datasets/stodoran/elwha-segmentation-tiny/commit/58c5392c437c283bcd08cbcff93d7737ca93d9ef', commit_message='Upload dataset', commit_description='', oid='58c5392c437c283bcd08cbcff93d7737ca93d9ef', pr_url=None, pr_revision=None, pr_num=None)"
      ]
     },
     "execution_count": 19,
     "metadata": {},
     "output_type": "execute_result"
    }
   ],
   "source": [
    "def createDataset(image_paths, label_paths):\n",
    "    dataset = Dataset.from_dict({\"image\": sorted(image_paths), \"label\": sorted(label_paths)})\n",
    "    dataset = dataset.cast_column(\"image\", Image())\n",
    "    dataset = dataset.cast_column(\"label\", Image())\n",
    "\n",
    "    return dataset\n",
    "\n",
    "train_dataset = createDataset(image_paths_train, label_paths_train)\n",
    "validation_dataset = createDataset(image_paths_validation, label_paths_validation)\n",
    "\n",
    "dataset = DatasetDict({\n",
    "    \"train\": train_dataset,\n",
    "    \"validation\": validation_dataset,\n",
    "})\n",
    "\n",
    "# This function assumes you have ran the huggingface-cli login command in a terminal/notebook\n",
    "# dataset.push_to_hub(\"stodoran/elwha-segmentation-large\")\n",
    "dataset.push_to_hub(\"stodoran/elwha-segmentation-tiny\")"
   ]
  },
  {
   "cell_type": "markdown",
   "metadata": {},
   "source": [
    "[stodoran/elwha-segmentation-large](https://huggingface.co/datasets/stodoran/elwha-segmentation-large/tree/main)<br>\n",
    "[stodoran/elwha-segmentation-tiny](https://huggingface.co/datasets/stodoran/elwha-segmentation-tiny/tree/main)"
   ]
  }
 ],
 "metadata": {
  "kernelspec": {
   "display_name": "elwha_env",
   "language": "python",
   "name": "python3"
  },
  "language_info": {
   "codemirror_mode": {
    "name": "ipython",
    "version": 3
   },
   "file_extension": ".py",
   "mimetype": "text/x-python",
   "name": "python",
   "nbconvert_exporter": "python",
   "pygments_lexer": "ipython3",
   "version": "3.10.12"
  }
 },
 "nbformat": 4,
 "nbformat_minor": 2
}
